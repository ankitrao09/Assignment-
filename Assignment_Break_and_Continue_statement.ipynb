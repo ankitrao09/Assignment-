{
  "nbformat": 4,
  "nbformat_minor": 0,
  "metadata": {
    "colab": {
      "provenance": []
    },
    "kernelspec": {
      "name": "python3",
      "display_name": "Python 3"
    },
    "language_info": {
      "name": "python"
    }
  },
  "cells": [
    {
      "cell_type": "code",
      "execution_count": null,
      "metadata": {
        "id": "Lbe1enhZvZgJ",
        "colab": {
          "base_uri": "https://localhost:8080/"
        },
        "outputId": "bd29b2d9-0381-4149-960a-f1b203d74e13"
      },
      "outputs": [
        {
          "output_type": "stream",
          "name": "stdout",
          "text": [
            "1\n",
            "2\n",
            "3\n",
            "4\n",
            "5\n"
          ]
        }
      ],
      "source": [
        "# Question >> Write a program to print numbers from 1 to 10, but stop if the number is 5\n",
        "#break\n",
        "i = 1\n",
        "n = 10\n",
        "\n",
        "while i < n:\n",
        "  print(i)\n",
        "  i = i +1\n",
        "  if i == 6:\n",
        "    break\n",
        "else:\n",
        "  print(\"while loop runs successfully\")"
      ]
    },
    {
      "cell_type": "code",
      "source": [
        "# Question >>  Write a program to iterate through a list and stop when encountering a specific element.\n",
        "fruits = ['apple', 'banana', 'cherry', 'orange']\n",
        "\n",
        "for fruit in fruits:\n",
        "    print(fruit)"
      ],
      "metadata": {
        "id": "9V32-34evwgM",
        "colab": {
          "base_uri": "https://localhost:8080/"
        },
        "outputId": "8b8af1ab-12ef-4e02-8acb-ac1abcfbbbed"
      },
      "execution_count": null,
      "outputs": [
        {
          "output_type": "stream",
          "name": "stdout",
          "text": [
            "apple\n",
            "banana\n",
            "cherry\n",
            "orange\n"
          ]
        }
      ]
    },
    {
      "cell_type": "code",
      "source": [
        "# Question >> Write a program to skip printing even numbers from 1 to 10.\n",
        "for i in range(10):\n",
        "  if i % 2 == 0:\n",
        "    continue\n",
        "  print(i)"
      ],
      "metadata": {
        "colab": {
          "base_uri": "https://localhost:8080/"
        },
        "id": "SfzB-r57ycJ3",
        "outputId": "9a65e74b-de4b-41d5-b490-f184972c78cf"
      },
      "execution_count": null,
      "outputs": [
        {
          "output_type": "stream",
          "name": "stdout",
          "text": [
            "1\n",
            "3\n",
            "5\n",
            "7\n",
            "9\n"
          ]
        }
      ]
    },
    {
      "cell_type": "code",
      "source": [
        "# Question >> Write a program to print numbers from 0 to 9 using range().\n",
        "list(range(0, 10 ))"
      ],
      "metadata": {
        "id": "Fyne3UhkwCg1",
        "colab": {
          "base_uri": "https://localhost:8080/"
        },
        "outputId": "98894354-3f32-4513-c155-0ecf2dc72a12"
      },
      "execution_count": 1,
      "outputs": [
        {
          "output_type": "execute_result",
          "data": {
            "text/plain": [
              "[0, 1, 2, 3, 4, 5, 6, 7, 8, 9]"
            ]
          },
          "metadata": {},
          "execution_count": 1
        }
      ]
    },
    {
      "cell_type": "code",
      "source": [
        "# Write a program to print multiplication tables from  1 to 5, but stop after the first table is printed for each number.\n",
        "\n"
      ],
      "metadata": {
        "id": "zxRM0hg6wJP0"
      },
      "execution_count": null,
      "outputs": []
    },
    {
      "cell_type": "code",
      "source": [
        "# Write a program to skip printing even numbers using a while loop.\n",
        "n = 0\n",
        "while n < 10:\n",
        "    n += 1\n",
        "    if n % 2 == 0:\n",
        "        continue\n",
        "    print(n)"
      ],
      "metadata": {
        "id": "im1OwOfrwQ3c",
        "colab": {
          "base_uri": "https://localhost:8080/"
        },
        "outputId": "e2621439-d69e-4608-b2d5-7749b8714a29"
      },
      "execution_count": null,
      "outputs": [
        {
          "output_type": "stream",
          "name": "stdout",
          "text": [
            "1\n",
            "3\n",
            "5\n",
            "7\n",
            "9\n"
          ]
        }
      ]
    },
    {
      "cell_type": "code",
      "source": [],
      "metadata": {
        "id": "sRjRhiL5zunW"
      },
      "execution_count": null,
      "outputs": []
    }
  ]
}