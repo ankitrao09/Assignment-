{
  "nbformat": 4,
  "nbformat_minor": 0,
  "metadata": {
    "colab": {
      "provenance": [],
      "authorship_tag": "ABX9TyNpiAbo49Hlo7QNS10xlQbs",
      "include_colab_link": true
    },
    "kernelspec": {
      "name": "python3",
      "display_name": "Python 3"
    },
    "language_info": {
      "name": "python"
    }
  },
  "cells": [
    {
      "cell_type": "markdown",
      "metadata": {
        "id": "view-in-github",
        "colab_type": "text"
      },
      "source": [
        "<a href=\"https://colab.research.google.com/github/ankitrao09/Assignments/blob/main/Assignment_Type_Conversion.ipynb\" target=\"_parent\"><img src=\"https://colab.research.google.com/assets/colab-badge.svg\" alt=\"Open In Colab\"/></a>"
      ]
    },
    {
      "cell_type": "code",
      "execution_count": null,
      "metadata": {
        "id": "GskHxml4z0_-"
      },
      "outputs": [],
      "source": [
        " #Question >> Covert a iteger to a floatig-point number.\n",
        "a = 4\n",
        "b = float(a)"
      ]
    },
    {
      "cell_type": "code",
      "source": [
        "type(b)"
      ],
      "metadata": {
        "id": "8vlsR84-0mrR"
      },
      "execution_count": null,
      "outputs": []
    },
    {
      "cell_type": "code",
      "source": [
        "# Question >>Covert a float to a integer.\n",
        "a = 4.5\n",
        "b = int(a)"
      ],
      "metadata": {
        "id": "b5A2TtnW0y04"
      },
      "execution_count": null,
      "outputs": []
    },
    {
      "cell_type": "code",
      "source": [
        "b"
      ],
      "metadata": {
        "id": "YCkwxUED1YRr"
      },
      "execution_count": null,
      "outputs": []
    },
    {
      "cell_type": "code",
      "source": [
        "# Question >> Covert a integer to a string.\n",
        "a = 5\n",
        "b = str(a)"
      ],
      "metadata": {
        "id": "SHv5jCkJ1ZPH"
      },
      "execution_count": null,
      "outputs": []
    },
    {
      "cell_type": "code",
      "source": [
        "b"
      ],
      "metadata": {
        "colab": {
          "base_uri": "https://localhost:8080/",
          "height": 35
        },
        "id": "QC1EB4xi2M-r",
        "outputId": "22dc357a-f075-4cb5-b224-c312eea52a54"
      },
      "execution_count": null,
      "outputs": [
        {
          "output_type": "execute_result",
          "data": {
            "text/plain": [
              "'5'"
            ],
            "application/vnd.google.colaboratory.intrinsic+json": {
              "type": "string"
            }
          },
          "metadata": {},
          "execution_count": 13
        }
      ]
    },
    {
      "cell_type": "code",
      "source": [
        "# Question >>Covert a list to a tuple.\n",
        "list1 = [ 1, 2, 3, 4]\n",
        "list2 = tuple(list)"
      ],
      "metadata": {
        "id": "ESJo9aoV2QeV"
      },
      "execution_count": null,
      "outputs": []
    },
    {
      "cell_type": "code",
      "source": [
        "type(list1)"
      ],
      "metadata": {
        "colab": {
          "base_uri": "https://localhost:8080/"
        },
        "id": "r1S3if-q22uh",
        "outputId": "56db0fc9-02c3-4311-debc-3725c085e980"
      },
      "execution_count": null,
      "outputs": [
        {
          "output_type": "execute_result",
          "data": {
            "text/plain": [
              "list"
            ]
          },
          "metadata": {},
          "execution_count": 19
        }
      ]
    },
    {
      "cell_type": "code",
      "source": [
        "# Question >> Covert a tuple to a list.\n",
        "t1 = (1, 2, 3, 4)\n",
        "t2 = list(t1)"
      ],
      "metadata": {
        "id": "YokX_ECz28RX"
      },
      "execution_count": null,
      "outputs": []
    },
    {
      "cell_type": "code",
      "source": [
        "t1"
      ],
      "metadata": {
        "colab": {
          "base_uri": "https://localhost:8080/"
        },
        "id": "UgXjKypP3UAp",
        "outputId": "fe0d62f0-8342-46a4-ec7e-a11d69f089f7"
      },
      "execution_count": null,
      "outputs": [
        {
          "output_type": "execute_result",
          "data": {
            "text/plain": [
              "(1, 2, 3, 4)"
            ]
          },
          "metadata": {},
          "execution_count": 34
        }
      ]
    },
    {
      "cell_type": "code",
      "source": [
        "# Question >> Covert a decimal number to binary.\n",
        "a = 10\n",
        "bin(a)"
      ],
      "metadata": {
        "id": "bVZcF6Gj4eco",
        "colab": {
          "base_uri": "https://localhost:8080/",
          "height": 35
        },
        "outputId": "ae28fe70-ffb0-4aad-f9e8-80739fd93267"
      },
      "execution_count": null,
      "outputs": [
        {
          "output_type": "execute_result",
          "data": {
            "text/plain": [
              "'0b1010'"
            ],
            "application/vnd.google.colaboratory.intrinsic+json": {
              "type": "string"
            }
          },
          "metadata": {},
          "execution_count": 35
        }
      ]
    },
    {
      "cell_type": "code",
      "source": [
        "# Question >> Covert a non-zero umber to boolean.\n",
        "a = 10\n",
        "bool(a)"
      ],
      "metadata": {
        "id": "FjHTMtIKAD_i",
        "colab": {
          "base_uri": "https://localhost:8080/"
        },
        "outputId": "f3cc48e3-273b-4bb8-8851-24789b3bec5d"
      },
      "execution_count": null,
      "outputs": [
        {
          "output_type": "execute_result",
          "data": {
            "text/plain": [
              "True"
            ]
          },
          "metadata": {},
          "execution_count": 47
        }
      ]
    }
  ]
}