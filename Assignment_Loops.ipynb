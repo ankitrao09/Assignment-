{
  "nbformat": 4,
  "nbformat_minor": 0,
  "metadata": {
    "colab": {
      "provenance": [],
      "authorship_tag": "ABX9TyOBsLNB0ZMBZZSUI94JUeJJ",
      "include_colab_link": true
    },
    "kernelspec": {
      "name": "python3",
      "display_name": "Python 3"
    },
    "language_info": {
      "name": "python"
    }
  },
  "cells": [
    {
      "cell_type": "markdown",
      "metadata": {
        "id": "view-in-github",
        "colab_type": "text"
      },
      "source": [
        "<a href=\"https://colab.research.google.com/github/ankitrao09/Assignments/blob/main/Assignment_Loops.ipynb\" target=\"_parent\"><img src=\"https://colab.research.google.com/assets/colab-badge.svg\" alt=\"Open In Colab\"/></a>"
      ]
    },
    {
      "cell_type": "code",
      "execution_count": null,
      "metadata": {
        "id": "0QKxPM9VltrA"
      },
      "outputs": [],
      "source": [
        "#  Question >> Print number from 1 to 5 using a while loop.\n",
        "n = 5\n",
        "i = 1\n",
        "while i <= n:\n",
        "  print(i)\n",
        "  i = i +1"
      ]
    },
    {
      "cell_type": "code",
      "source": [
        "# Calculate the sum of numbers from 1 to 10 using a while loop.\n",
        "i = 1\n",
        "sum = 0\n",
        "while i <= 10:\n",
        "    print(i)\n",
        "    sum += i\n",
        "    i += 1\n",
        "\n",
        "print(\"The sum is\", sum)\n"
      ],
      "metadata": {
        "colab": {
          "base_uri": "https://localhost:8080/"
        },
        "id": "vgKo3v-tmXWj",
        "outputId": "cbde49f8-92e7-43b3-d4ce-ff35375af8b9"
      },
      "execution_count": null,
      "outputs": [
        {
          "output_type": "stream",
          "name": "stdout",
          "text": [
            "1\n",
            "2\n",
            "3\n",
            "4\n",
            "5\n",
            "6\n",
            "7\n",
            "8\n",
            "9\n",
            "10\n",
            "The sum is 55\n"
          ]
        }
      ]
    },
    {
      "cell_type": "code",
      "source": [
        "# Question >> Factorial of a Number in Python Using for Loop\n",
        "\n",
        "n = int(input(\"Enter any number: \"))\n",
        "f = 1\n",
        "\n",
        "for i in range(n, 0, -1):\n",
        "    f *= i\n",
        "\n",
        "print(\"Factorial is\", f)"
      ],
      "metadata": {
        "colab": {
          "base_uri": "https://localhost:8080/"
        },
        "id": "SWNejyg2nyU1",
        "outputId": "3826db51-a352-4531-cb26-c20ac5b78807"
      },
      "execution_count": null,
      "outputs": [
        {
          "output_type": "stream",
          "name": "stdout",
          "text": [
            "Enter any number: 3\n",
            "Factorial is 6\n"
          ]
        }
      ]
    },
    {
      "cell_type": "code",
      "source": [
        "# Question >> Count the number of vowel in a string using a for loop.\n",
        "example = \"Ankitrao\"\n",
        "\n",
        "vowels = [\"a\", \"e\", \"i\", \"o\", \"u\", \"A\", \"E\", \"I\", \"O\", \"U\"]\n",
        "count = 0\n",
        "for character in example:\n",
        "    if character in vowels:\n",
        "        count += 1\n",
        "\n",
        "\n",
        "print(\"Number of vowels in the given string is: \", count)\n"
      ],
      "metadata": {
        "colab": {
          "base_uri": "https://localhost:8080/"
        },
        "id": "X-z1Vkh4p4Y2",
        "outputId": "ef11781f-e6c5-47a9-bac4-d1fc265a4212"
      },
      "execution_count": null,
      "outputs": [
        {
          "output_type": "stream",
          "name": "stdout",
          "text": [
            "Number of vowels in the given string is:  5\n"
          ]
        }
      ]
    },
    {
      "cell_type": "code",
      "source": [
        "# Question >> Print a pattern using nested loop.\n",
        "row = 1\n",
        "while row <= 4:\n",
        "  col = 1\n",
        "  while col <= row:\n",
        "     print(\" @ \", end = \" \")\n",
        "     col = col + 1\n",
        "  print()\n",
        "  row = row + 1"
      ],
      "metadata": {
        "colab": {
          "base_uri": "https://localhost:8080/"
        },
        "id": "AqiZRfllr3F5",
        "outputId": "930bf5cb-89b2-4f4d-9da6-6061ce99006b"
      },
      "execution_count": null,
      "outputs": [
        {
          "output_type": "stream",
          "name": "stdout",
          "text": [
            " @  \n",
            " @   @  \n",
            " @   @   @  \n",
            " @   @   @   @  \n"
          ]
        }
      ]
    },
    {
      "cell_type": "code",
      "source": [
        "# Generate a mltiplication table using nested loop.\n"
      ],
      "metadata": {
        "id": "fcvec9PWupnL"
      },
      "execution_count": null,
      "outputs": []
    }
  ]
}