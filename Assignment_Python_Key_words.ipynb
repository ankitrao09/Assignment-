{
  "nbformat": 4,
  "nbformat_minor": 0,
  "metadata": {
    "colab": {
      "provenance": [],
      "authorship_tag": "ABX9TyPO8eUvfD6yl9wRH1JqUorU",
      "include_colab_link": true
    },
    "kernelspec": {
      "name": "python3",
      "display_name": "Python 3"
    },
    "language_info": {
      "name": "python"
    }
  },
  "cells": [
    {
      "cell_type": "markdown",
      "metadata": {
        "id": "view-in-github",
        "colab_type": "text"
      },
      "source": [
        "<a href=\"https://colab.research.google.com/github/ankitrao09/Assignments/blob/main/Assignment_Python_Key_words.ipynb\" target=\"_parent\"><img src=\"https://colab.research.google.com/assets/colab-badge.svg\" alt=\"Open In Colab\"/></a>"
      ]
    },
    {
      "cell_type": "code",
      "execution_count": null,
      "metadata": {
        "id": "FoJtlcNARduR"
      },
      "outputs": [],
      "source": [
        "# Question >> Explain the significance of Python keywords and provide examples of five keywords..\n",
        "\n",
        "#  Python Keywords are some predefined and reserved words in Python that have\n",
        "#  special meanings. Keywords are used to define the syntax of the coding.\n",
        "#  The keyword cannot be used as an identifier, function, or variable name.\n",
        "#  All the keywords in Python are written in lowercase except True and False.\n",
        "#  Python keywords cannot be used as the names of variables, functions, and classes.\n",
        "\n",
        "#  Exaples >> and,or, break, continue, if, elif, return, print"
      ]
    },
    {
      "cell_type": "code",
      "source": [
        "#  Question >> Describe the rules for defining identifiers in Python and provide an example\n",
        "\n",
        "#  Identifiers are the name given to variables, classes, methods.\n",
        "#  examples >> num1, a, b, name1, score, result, lis1\n"
      ],
      "metadata": {
        "id": "f4VWc-50UDc1"
      },
      "execution_count": null,
      "outputs": []
    },
    {
      "cell_type": "code",
      "source": [
        "# Question >> What are comments in Python, and why are they useful? Provide an example.\n",
        "\n",
        "#  Comments in Python are pieces of text that are ignored by the Python interpreter.\n",
        "#  hey are used to provide additional information to aid in understanding the code.\n",
        "#  Comments can be used to explain the purpose of a code block\n",
        "\n",
        "# examples >>\n",
        "# This is a single-line comment.\n",
        "print(\"Hello, world!\")\n",
        "\n",
        "'''\n",
        "This is a multi-line comment.\n",
        "It can span multiple lines.\n",
        "'''\n",
        "\n",
        "print(\"Hello, world!\")"
      ],
      "metadata": {
        "colab": {
          "base_uri": "https://localhost:8080/"
        },
        "id": "rnmjPD5hVMal",
        "outputId": "0cf6963b-898a-476b-d05f-9618b5933335"
      },
      "execution_count": null,
      "outputs": [
        {
          "output_type": "stream",
          "name": "stdout",
          "text": [
            "Hello, world!\n",
            "Hello, world!\n"
          ]
        }
      ]
    },
    {
      "cell_type": "code",
      "source": [
        "# Question >> Why is proper indentation important in Python?\n",
        "\n",
        "# Indentation is one of the most important aspects of Python syntax.\n",
        "# It is used to define code blocks and is essential for the Python interpreter to understand the code.\n",
        "\n",
        "# First code is easier to read\n",
        "x = 3\n",
        "if x > 0:\n",
        "    print(\"x is positive\")\n",
        "else:\n",
        "    print(\"x is negative\")\n",
        "\n",
        "# 2nd code is not easier to read\n",
        "\n",
        "# if x > 0: print(\"x is positive\")\n",
        "# else: print(\"x is negative\")\n",
        "\n"
      ],
      "metadata": {
        "colab": {
          "base_uri": "https://localhost:8080/"
        },
        "id": "hgqypTTbWA9W",
        "outputId": "e9c0f819-4508-4ab9-b720-2f60af2eed56"
      },
      "execution_count": null,
      "outputs": [
        {
          "output_type": "stream",
          "name": "stdout",
          "text": [
            "x is positive\n"
          ]
        }
      ]
    },
    {
      "cell_type": "code",
      "source": [
        "# Question >> What happens if indentation is incorrect in Pythonn?\n",
        "\n",
        "# Python uses indentation to define code blocks, so incorrect indentation can lead to errors.\n"
      ],
      "metadata": {
        "id": "NlgcCISVXFa9"
      },
      "execution_count": null,
      "outputs": []
    },
    {
      "cell_type": "code",
      "source": [
        "# Question >> Differentiate between expression and statement in Python with examples.\n",
        "# An expression is something that can be printed or assigned to a variable.\n",
        "# A statement is something that can't be printed or assigned to a variable.\n",
        "\n",
        "# print(\"Hello World\")\n",
        "# a = 10\n",
        "# b = a - 5\n",
        "\n",
        "# For example >>  print('hi') is a statement because it can't be printed or assigned to a variable.\n",
        "# On the other hand, a = 10 is an expression because it can be assigned to a variable."
      ],
      "metadata": {
        "id": "9_QmcB27ZC99"
      },
      "execution_count": null,
      "outputs": []
    }
  ]
}